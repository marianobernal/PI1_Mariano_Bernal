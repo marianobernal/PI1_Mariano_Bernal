{
 "cells": [
  {
   "cell_type": "markdown",
   "metadata": {},
   "source": [
    "# Modelo de Machine Learning"
   ]
  },
  {
   "cell_type": "code",
   "execution_count": 433,
   "metadata": {},
   "outputs": [],
   "source": [
    "import numpy as np\n",
    "import pandas as pd\n",
    "import seaborn as sns\n",
    "import matplotlib.pyplot as plt\n",
    "import ast"
   ]
  },
  {
   "cell_type": "code",
   "execution_count": 434,
   "metadata": {},
   "outputs": [],
   "source": [
    "\n",
    "from sklearn.linear_model import LinearRegression\n",
    "from sklearn.model_selection import train_test_split\n",
    "from sklearn.metrics import mean_squared_error \n",
    "from sklearn.metrics import r2_score \n",
    "from sklearn.preprocessing import PolynomialFeatures\n",
    "from sklearn.tree import DecisionTreeRegressor\n",
    "from sklearn.model_selection import cross_validate\n",
    "from sklearn.metrics import accuracy_score\n",
    "from sklearn.model_selection import cross_val_score\n",
    "from sklearn.metrics import make_scorer\n",
    "from sklearn.model_selection import GridSearchCV"
   ]
  },
  {
   "cell_type": "code",
   "execution_count": 435,
   "metadata": {},
   "outputs": [],
   "source": [
    "dfml = pd.read_csv(\"Archivos/dfML.csv\")"
   ]
  },
  {
   "cell_type": "code",
   "execution_count": 436,
   "metadata": {},
   "outputs": [],
   "source": [
    "y=dfml['Precio'].round(1)\n",
    "x=dfml.drop(columns=['Precio'])"
   ]
  },
  {
   "cell_type": "markdown",
   "metadata": {},
   "source": [
    "Luego de importar todas las librerías, cargamos el dataframe que generamos en el readme anterior (EDA) y definimos al precio como variable independiente y a las demas variables como dependientes."
   ]
  },
  {
   "cell_type": "markdown",
   "metadata": {},
   "source": [
    "### Regresión Lineal\n",
    "El primer modelo que generaremos, será de regresión lineal y lo haremos tanto para este como para los otros modelos que evaluemos con un test size del 25 de la muestras."
   ]
  },
  {
   "cell_type": "code",
   "execution_count": 437,
   "metadata": {},
   "outputs": [
    {
     "data": {
      "text/html": [
       "<style>#sk-container-id-48 {color: black;}#sk-container-id-48 pre{padding: 0;}#sk-container-id-48 div.sk-toggleable {background-color: white;}#sk-container-id-48 label.sk-toggleable__label {cursor: pointer;display: block;width: 100%;margin-bottom: 0;padding: 0.3em;box-sizing: border-box;text-align: center;}#sk-container-id-48 label.sk-toggleable__label-arrow:before {content: \"▸\";float: left;margin-right: 0.25em;color: #696969;}#sk-container-id-48 label.sk-toggleable__label-arrow:hover:before {color: black;}#sk-container-id-48 div.sk-estimator:hover label.sk-toggleable__label-arrow:before {color: black;}#sk-container-id-48 div.sk-toggleable__content {max-height: 0;max-width: 0;overflow: hidden;text-align: left;background-color: #f0f8ff;}#sk-container-id-48 div.sk-toggleable__content pre {margin: 0.2em;color: black;border-radius: 0.25em;background-color: #f0f8ff;}#sk-container-id-48 input.sk-toggleable__control:checked~div.sk-toggleable__content {max-height: 200px;max-width: 100%;overflow: auto;}#sk-container-id-48 input.sk-toggleable__control:checked~label.sk-toggleable__label-arrow:before {content: \"▾\";}#sk-container-id-48 div.sk-estimator input.sk-toggleable__control:checked~label.sk-toggleable__label {background-color: #d4ebff;}#sk-container-id-48 div.sk-label input.sk-toggleable__control:checked~label.sk-toggleable__label {background-color: #d4ebff;}#sk-container-id-48 input.sk-hidden--visually {border: 0;clip: rect(1px 1px 1px 1px);clip: rect(1px, 1px, 1px, 1px);height: 1px;margin: -1px;overflow: hidden;padding: 0;position: absolute;width: 1px;}#sk-container-id-48 div.sk-estimator {font-family: monospace;background-color: #f0f8ff;border: 1px dotted black;border-radius: 0.25em;box-sizing: border-box;margin-bottom: 0.5em;}#sk-container-id-48 div.sk-estimator:hover {background-color: #d4ebff;}#sk-container-id-48 div.sk-parallel-item::after {content: \"\";width: 100%;border-bottom: 1px solid gray;flex-grow: 1;}#sk-container-id-48 div.sk-label:hover label.sk-toggleable__label {background-color: #d4ebff;}#sk-container-id-48 div.sk-serial::before {content: \"\";position: absolute;border-left: 1px solid gray;box-sizing: border-box;top: 0;bottom: 0;left: 50%;z-index: 0;}#sk-container-id-48 div.sk-serial {display: flex;flex-direction: column;align-items: center;background-color: white;padding-right: 0.2em;padding-left: 0.2em;position: relative;}#sk-container-id-48 div.sk-item {position: relative;z-index: 1;}#sk-container-id-48 div.sk-parallel {display: flex;align-items: stretch;justify-content: center;background-color: white;position: relative;}#sk-container-id-48 div.sk-item::before, #sk-container-id-48 div.sk-parallel-item::before {content: \"\";position: absolute;border-left: 1px solid gray;box-sizing: border-box;top: 0;bottom: 0;left: 50%;z-index: -1;}#sk-container-id-48 div.sk-parallel-item {display: flex;flex-direction: column;z-index: 1;position: relative;background-color: white;}#sk-container-id-48 div.sk-parallel-item:first-child::after {align-self: flex-end;width: 50%;}#sk-container-id-48 div.sk-parallel-item:last-child::after {align-self: flex-start;width: 50%;}#sk-container-id-48 div.sk-parallel-item:only-child::after {width: 0;}#sk-container-id-48 div.sk-dashed-wrapped {border: 1px dashed gray;margin: 0 0.4em 0.5em 0.4em;box-sizing: border-box;padding-bottom: 0.4em;background-color: white;}#sk-container-id-48 div.sk-label label {font-family: monospace;font-weight: bold;display: inline-block;line-height: 1.2em;}#sk-container-id-48 div.sk-label-container {text-align: center;}#sk-container-id-48 div.sk-container {/* jupyter's `normalize.less` sets `[hidden] { display: none; }` but bootstrap.min.css set `[hidden] { display: none !important; }` so we also need the `!important` here to be able to override the default hidden behavior on the sphinx rendered scikit-learn.org. See: https://github.com/scikit-learn/scikit-learn/issues/21755 */display: inline-block !important;position: relative;}#sk-container-id-48 div.sk-text-repr-fallback {display: none;}</style><div id=\"sk-container-id-48\" class=\"sk-top-container\"><div class=\"sk-text-repr-fallback\"><pre>LinearRegression()</pre><b>In a Jupyter environment, please rerun this cell to show the HTML representation or trust the notebook. <br />On GitHub, the HTML representation is unable to render, please try loading this page with nbviewer.org.</b></div><div class=\"sk-container\" hidden><div class=\"sk-item\"><div class=\"sk-estimator sk-toggleable\"><input class=\"sk-toggleable__control sk-hidden--visually\" id=\"sk-estimator-id-48\" type=\"checkbox\" checked><label for=\"sk-estimator-id-48\" class=\"sk-toggleable__label sk-toggleable__label-arrow\">LinearRegression</label><div class=\"sk-toggleable__content\"><pre>LinearRegression()</pre></div></div></div></div></div>"
      ],
      "text/plain": [
       "LinearRegression()"
      ]
     },
     "execution_count": 437,
     "metadata": {},
     "output_type": "execute_result"
    }
   ],
   "source": [
    "modelo = LinearRegression(fit_intercept=True)\n",
    "X_train, X_test, y_train, y_test = train_test_split(x, y, test_size = 0.25, random_state = 42)\n",
    "modelo.fit(X_train,y_train)"
   ]
  },
  {
   "cell_type": "code",
   "execution_count": 438,
   "metadata": {},
   "outputs": [],
   "source": [
    "y_train_pred = modelo.predict(X_train)\n",
    "\n",
    "# Predecimos sobre nuestro set de testeo\n",
    "\n",
    "y_test_pred = modelo.predict(X_test)"
   ]
  },
  {
   "cell_type": "code",
   "execution_count": 439,
   "metadata": {},
   "outputs": [
    {
     "name": "stdout",
     "output_type": "stream",
     "text": [
      "Raíz del error cuadrático medio en Train: 8.904846505978064\n",
      "Raíz del error cuadrático medio en Test: 8.961647325655377\n"
     ]
    }
   ],
   "source": [
    "rmse_train = (mean_squared_error(y_train, y_train_pred, squared = False))\n",
    "rmse_test = (mean_squared_error(y_test, y_test_pred, squared = False))\n",
    "print(f'Raíz del error cuadrático medio en Train: {rmse_train}')\n",
    "print(f'Raíz del error cuadrático medio en Test: {rmse_test}')"
   ]
  },
  {
   "cell_type": "code",
   "execution_count": 440,
   "metadata": {},
   "outputs": [
    {
     "name": "stdout",
     "output_type": "stream",
     "text": [
      "El coeficiente de determinación del regresor es: 0.11618354517943097\n"
     ]
    }
   ],
   "source": [
    "\n",
    "r2 = r2_score(y_test, y_test_pred) \n",
    "print('El coeficiente de determinación del regresor es:', r2)"
   ]
  },
  {
   "cell_type": "markdown",
   "metadata": {},
   "source": [
    "Luego de entrenar el modelo y predecirlo sobre el grupo de testeo, vemos que tiene un RSME DE 8.96 y un R cuadrado de 0.116."
   ]
  },
  {
   "cell_type": "markdown",
   "metadata": {},
   "source": [
    "### Decision Tree"
   ]
  },
  {
   "cell_type": "markdown",
   "metadata": {},
   "source": [
    "Ahora realizaremos un segundo modelo que será una regresión mediante un arbol de decisión. Inicialmente probaremos con una profundidad de 4."
   ]
  },
  {
   "cell_type": "markdown",
   "metadata": {},
   "source": [
    "Transforma las características originales en características polinómicas utilizando la clase PolynomialFeatures."
   ]
  },
  {
   "cell_type": "code",
   "execution_count": 441,
   "metadata": {},
   "outputs": [
    {
     "data": {
      "text/html": [
       "<style>#sk-container-id-49 {color: black;}#sk-container-id-49 pre{padding: 0;}#sk-container-id-49 div.sk-toggleable {background-color: white;}#sk-container-id-49 label.sk-toggleable__label {cursor: pointer;display: block;width: 100%;margin-bottom: 0;padding: 0.3em;box-sizing: border-box;text-align: center;}#sk-container-id-49 label.sk-toggleable__label-arrow:before {content: \"▸\";float: left;margin-right: 0.25em;color: #696969;}#sk-container-id-49 label.sk-toggleable__label-arrow:hover:before {color: black;}#sk-container-id-49 div.sk-estimator:hover label.sk-toggleable__label-arrow:before {color: black;}#sk-container-id-49 div.sk-toggleable__content {max-height: 0;max-width: 0;overflow: hidden;text-align: left;background-color: #f0f8ff;}#sk-container-id-49 div.sk-toggleable__content pre {margin: 0.2em;color: black;border-radius: 0.25em;background-color: #f0f8ff;}#sk-container-id-49 input.sk-toggleable__control:checked~div.sk-toggleable__content {max-height: 200px;max-width: 100%;overflow: auto;}#sk-container-id-49 input.sk-toggleable__control:checked~label.sk-toggleable__label-arrow:before {content: \"▾\";}#sk-container-id-49 div.sk-estimator input.sk-toggleable__control:checked~label.sk-toggleable__label {background-color: #d4ebff;}#sk-container-id-49 div.sk-label input.sk-toggleable__control:checked~label.sk-toggleable__label {background-color: #d4ebff;}#sk-container-id-49 input.sk-hidden--visually {border: 0;clip: rect(1px 1px 1px 1px);clip: rect(1px, 1px, 1px, 1px);height: 1px;margin: -1px;overflow: hidden;padding: 0;position: absolute;width: 1px;}#sk-container-id-49 div.sk-estimator {font-family: monospace;background-color: #f0f8ff;border: 1px dotted black;border-radius: 0.25em;box-sizing: border-box;margin-bottom: 0.5em;}#sk-container-id-49 div.sk-estimator:hover {background-color: #d4ebff;}#sk-container-id-49 div.sk-parallel-item::after {content: \"\";width: 100%;border-bottom: 1px solid gray;flex-grow: 1;}#sk-container-id-49 div.sk-label:hover label.sk-toggleable__label {background-color: #d4ebff;}#sk-container-id-49 div.sk-serial::before {content: \"\";position: absolute;border-left: 1px solid gray;box-sizing: border-box;top: 0;bottom: 0;left: 50%;z-index: 0;}#sk-container-id-49 div.sk-serial {display: flex;flex-direction: column;align-items: center;background-color: white;padding-right: 0.2em;padding-left: 0.2em;position: relative;}#sk-container-id-49 div.sk-item {position: relative;z-index: 1;}#sk-container-id-49 div.sk-parallel {display: flex;align-items: stretch;justify-content: center;background-color: white;position: relative;}#sk-container-id-49 div.sk-item::before, #sk-container-id-49 div.sk-parallel-item::before {content: \"\";position: absolute;border-left: 1px solid gray;box-sizing: border-box;top: 0;bottom: 0;left: 50%;z-index: -1;}#sk-container-id-49 div.sk-parallel-item {display: flex;flex-direction: column;z-index: 1;position: relative;background-color: white;}#sk-container-id-49 div.sk-parallel-item:first-child::after {align-self: flex-end;width: 50%;}#sk-container-id-49 div.sk-parallel-item:last-child::after {align-self: flex-start;width: 50%;}#sk-container-id-49 div.sk-parallel-item:only-child::after {width: 0;}#sk-container-id-49 div.sk-dashed-wrapped {border: 1px dashed gray;margin: 0 0.4em 0.5em 0.4em;box-sizing: border-box;padding-bottom: 0.4em;background-color: white;}#sk-container-id-49 div.sk-label label {font-family: monospace;font-weight: bold;display: inline-block;line-height: 1.2em;}#sk-container-id-49 div.sk-label-container {text-align: center;}#sk-container-id-49 div.sk-container {/* jupyter's `normalize.less` sets `[hidden] { display: none; }` but bootstrap.min.css set `[hidden] { display: none !important; }` so we also need the `!important` here to be able to override the default hidden behavior on the sphinx rendered scikit-learn.org. See: https://github.com/scikit-learn/scikit-learn/issues/21755 */display: inline-block !important;position: relative;}#sk-container-id-49 div.sk-text-repr-fallback {display: none;}</style><div id=\"sk-container-id-49\" class=\"sk-top-container\"><div class=\"sk-text-repr-fallback\"><pre>DecisionTreeRegressor(max_depth=4)</pre><b>In a Jupyter environment, please rerun this cell to show the HTML representation or trust the notebook. <br />On GitHub, the HTML representation is unable to render, please try loading this page with nbviewer.org.</b></div><div class=\"sk-container\" hidden><div class=\"sk-item\"><div class=\"sk-estimator sk-toggleable\"><input class=\"sk-toggleable__control sk-hidden--visually\" id=\"sk-estimator-id-49\" type=\"checkbox\" checked><label for=\"sk-estimator-id-49\" class=\"sk-toggleable__label sk-toggleable__label-arrow\">DecisionTreeRegressor</label><div class=\"sk-toggleable__content\"><pre>DecisionTreeRegressor(max_depth=4)</pre></div></div></div></div></div>"
      ],
      "text/plain": [
       "DecisionTreeRegressor(max_depth=4)"
      ]
     },
     "execution_count": 441,
     "metadata": {},
     "output_type": "execute_result"
    }
   ],
   "source": [
    "modeloa = DecisionTreeRegressor(max_depth=4)\n",
    "X_train, X_test, y_train, y_test = train_test_split(x, y, test_size = 0.25, random_state = 42)\n",
    "modeloa.fit(X_train,y_train)"
   ]
  },
  {
   "cell_type": "code",
   "execution_count": 442,
   "metadata": {},
   "outputs": [],
   "source": [
    "y_train_pred = modeloa.predict(X_train)\n",
    "\n",
    "# Predecimos sobre nuestro set de testeo\n",
    "\n",
    "y_test_pred = modeloa.predict(X_test)"
   ]
  },
  {
   "cell_type": "code",
   "execution_count": 443,
   "metadata": {},
   "outputs": [
    {
     "name": "stdout",
     "output_type": "stream",
     "text": [
      "Raíz del error cuadrático medio en Train: 8.932202089135256\n",
      "Raíz del error cuadrático medio en Test: 8.964719135284598\n"
     ]
    }
   ],
   "source": [
    "rmse_train = (mean_squared_error(y_train, y_train_pred, squared = False))\n",
    "rmse_test = (mean_squared_error(y_test, y_test_pred, squared = False))\n",
    "print(f'Raíz del error cuadrático medio en Train: {rmse_train}')\n",
    "print(f'Raíz del error cuadrático medio en Test: {rmse_test}')"
   ]
  },
  {
   "cell_type": "code",
   "execution_count": 444,
   "metadata": {},
   "outputs": [
    {
     "name": "stdout",
     "output_type": "stream",
     "text": [
      "El coeficiente de determinación del regresor es: 0.11557754472048098\n"
     ]
    }
   ],
   "source": [
    "r2 = r2_score(y_test, y_test_pred) \n",
    "print('El coeficiente de determinación del regresor es:', r2)"
   ]
  },
  {
   "cell_type": "markdown",
   "metadata": {},
   "source": [
    "### Curva de validación para Decision Tree\n",
    "Con el objetivo de mejorar el último modelo, graficaremos la curva de validación para poder determinar cual es la profundidad óptima del árbol."
   ]
  },
  {
   "cell_type": "markdown",
   "metadata": {},
   "source": []
  },
  {
   "cell_type": "code",
   "execution_count": 445,
   "metadata": {},
   "outputs": [],
   "source": [
    "RMSEtrain = []\n",
    "RMSEtest = []\n",
    "\n",
    "for i in range(0,18):\n",
    "    i+=1\n",
    "    modeloa = DecisionTreeRegressor(max_depth=i)\n",
    "    modeloa.fit(X_train,y_train)\n",
    "    y_train_pred = modeloa.predict(X_train)\n",
    "    y_test_pred = modeloa.predict(X_test)\n",
    "    RMSEtest.append((mean_squared_error(y_test, y_test_pred, squared = False)))\n",
    "    RMSEtrain.append(mean_squared_error(y_train, y_train_pred, squared = False))"
   ]
  },
  {
   "cell_type": "code",
   "execution_count": 446,
   "metadata": {},
   "outputs": [],
   "source": [
    "profundidades = np.arange(1,19,1)"
   ]
  },
  {
   "cell_type": "code",
   "execution_count": 447,
   "metadata": {},
   "outputs": [
    {
     "data": {
      "text/plain": [
       "[<matplotlib.lines.Line2D at 0x1e5f6ba17d0>]"
      ]
     },
     "execution_count": 447,
     "metadata": {},
     "output_type": "execute_result"
    },
    {
     "data": {
      "image/png": "[encoded data removed]",
      "text/plain": [
       "<Figure size 640x480 with 1 Axes>"
      ]
     },
     "metadata": {},
     "output_type": "display_data"
    }
   ],
   "source": [
    "\n",
    "plt.plot(profundidades, RMSEtrain, marker='o', linestyle='-',color='g')\n",
    "plt.plot(profundidades, RMSEtest, marker='o', linestyle='-')\n"
   ]
  },
  {
   "cell_type": "markdown",
   "metadata": {},
   "source": [
    "Cómo vemos la profundidad óptima del árbol es de 6, que es donde el RMSE de testeo es el mínimo y es cercano al de entrenamiento. Una profundidad mayor implicaría overfitting y menor underfitting\n",
    "A continuación volvemos a entrenar y evaluar el modelo pero con una profundidad de 6 y vemos que efectivamente mejoran las métricas RMSE y R cuadrado."
   ]
  },
  {
   "cell_type": "code",
   "execution_count": 448,
   "metadata": {},
   "outputs": [
    {
     "name": "stdout",
     "output_type": "stream",
     "text": [
      "Raíz del error cuadrático medio en Train: 8.703691378450452\n",
      "Raíz del error cuadrático medio en Test: 8.856502705632256\n",
      "El coeficiente de determinación del regresor es: 0.136801047525964\n"
     ]
    }
   ],
   "source": [
    "modeloa2 = DecisionTreeRegressor(max_depth=6)\n",
    "X_train, X_test, y_train, y_test = train_test_split(x, y, test_size = 0.25, random_state = 42)\n",
    "modeloa2.fit(X_train,y_train)\n",
    "y_train_pred = modeloa2.predict(X_train)\n",
    "\n",
    "# Predecimos sobre nuestro set de testeo\n",
    "\n",
    "y_test_pred = modeloa2.predict(X_test)\n",
    "rmse_train = (mean_squared_error(y_train, y_train_pred, squared = False))\n",
    "rmse_test = (mean_squared_error(y_test, y_test_pred, squared = False))\n",
    "print(f'Raíz del error cuadrático medio en Train: {rmse_train}')\n",
    "print(f'Raíz del error cuadrático medio en Test: {rmse_test}')\n",
    "r2 = r2_score(y_test, y_test_pred) \n",
    "print('El coeficiente de determinación del regresor es:', r2)"
   ]
  },
  {
   "cell_type": "markdown",
   "metadata": {},
   "source": [
    "### Validación Cruzada\n",
    "Por último realizaremos una validación cruzada para ambos modelos y así evaluar que efectivamente sea más conveniente el modelos de árbol y que no se encuentre \"sesgado\" por alguna aleatoriedad generada en el grupo de entrenamiento."
   ]
  },
  {
   "cell_type": "code",
   "execution_count": 449,
   "metadata": {},
   "outputs": [],
   "source": [
    "tree = modeloa2\n",
    "lineal = modelo\n",
    "def rmse(y_true, y_pred):\n",
    "    return mean_squared_error(y_true, y_pred, squared = False)"
   ]
  },
  {
   "cell_type": "code",
   "execution_count": 450,
   "metadata": {},
   "outputs": [
    {
     "name": "stdout",
     "output_type": "stream",
     "text": [
      "RMSE scores lineal: [ 8.74205085  8.75402994  9.06450085  9.17192341 10.17579834  8.6665055\n",
      "  8.35893283  9.19591794  9.06122079  8.24778835]\n",
      "Mean RMSE lineal: 8.943866879013683\n",
      "RMSE scores tree: [ 8.5367607   8.70583684  9.04067359  9.31757291 10.14672495  8.61667069\n",
      "  8.4052797   9.37225421  8.90724474  8.19791042]\n",
      "Mean RMSE tree: 8.924692875256854\n"
     ]
    }
   ],
   "source": [
    "\n",
    "rmse_scores_lineal = cross_validate(lineal, x, y, cv=10, scoring=make_scorer(rmse), return_train_score=True)\n",
    "print(\"RMSE scores lineal:\", rmse_scores_lineal['test_score'])\n",
    "mean_rmse = np.mean(rmse_scores_lineal['test_score'])\n",
    "print(\"Mean RMSE lineal:\", mean_rmse)\n",
    "rmse_scores_tree = cross_validate(tree, x, y, cv=10, scoring=make_scorer(rmse), return_train_score=True)\n",
    "print(\"RMSE scores tree:\", rmse_scores_tree['test_score'])\n",
    "mean_rmse = np.mean(rmse_scores_tree['test_score'])\n",
    "print(\"Mean RMSE tree:\", mean_rmse)\n"
   ]
  },
  {
   "cell_type": "markdown",
   "metadata": {},
   "source": [
    "Efectivamente vemos que es mejor este modelo, por lo que será el que seleccionemos para realizar las predicciones en nuestra API."
   ]
  },
  {
   "cell_type": "markdown",
   "metadata": {},
   "source": [
    "### Prototipo Función"
   ]
  },
  {
   "cell_type": "code",
   "execution_count": 488,
   "metadata": {},
   "outputs": [],
   "source": [
    "dfml = pd.read_csv(\"Archivos/dfML.csv\")\n",
    "y=dfml['Precio'].round(1)\n",
    "x=dfml.drop(columns=['Precio'])\n",
    "Modelo_árbol = DecisionTreeRegressor(max_depth=6)\n",
    "X_train, X_test, y_train, y_test = train_test_split(x, y, test_size = 0.25, random_state = 42)\n",
    "Modelo_árbol.fit(X_train,y_train)\n",
    "y_train_pred = Modelo_árbol.predict(X_train)\n",
    "y_test_pred = modelo.predict(X_test)\n"
   ]
  },
  {
   "cell_type": "code",
   "execution_count": 489,
   "metadata": {},
   "outputs": [
    {
     "name": "stdout",
     "output_type": "stream",
     "text": [
      "Raíz del error cuadrático medio en Train: 8.703691378450452\n"
     ]
    }
   ],
   "source": [
    "rmse = (mean_squared_error(y_test, y_test_pred, squared = False))\n",
    "print(f'Raíz del error cuadrático medio en Train: {rmse_train}')"
   ]
  },
  {
   "cell_type": "code",
   "execution_count": 452,
   "metadata": {},
   "outputs": [
    {
     "name": "stdout",
     "output_type": "stream",
     "text": [
      "<class 'pandas.core.frame.DataFrame'>\n",
      "RangeIndex: 26851 entries, 0 to 26850\n",
      "Data columns (total 24 columns):\n",
      " #   Column                            Non-Null Count  Dtype  \n",
      "---  ------                            --------------  -----  \n",
      " 0   Mes                               26851 non-null  float64\n",
      " 1   Género_Accounting                 26851 non-null  int64  \n",
      " 2   Género_Action                     26851 non-null  int64  \n",
      " 3   Género_Adventure                  26851 non-null  int64  \n",
      " 4   Género_Animation &amp; Modeling   26851 non-null  int64  \n",
      " 5   Género_Audio Production           26851 non-null  int64  \n",
      " 6   Género_Casual                     26851 non-null  int64  \n",
      " 7   Género_Design &amp; Illustration  26851 non-null  int64  \n",
      " 8   Género_Early Access               26851 non-null  int64  \n",
      " 9   Género_Education                  26851 non-null  int64  \n",
      " 10  Género_Free to Play               26851 non-null  int64  \n",
      " 11  Género_Indie                      26851 non-null  int64  \n",
      " 12  Género_Massively Multiplayer      26851 non-null  int64  \n",
      " 13  Género_Photo Editing              26851 non-null  int64  \n",
      " 14  Género_RPG                        26851 non-null  int64  \n",
      " 15  Género_Racing                     26851 non-null  int64  \n",
      " 16  Género_Simulation                 26851 non-null  int64  \n",
      " 17  Género_Software Training          26851 non-null  int64  \n",
      " 18  Género_Sports                     26851 non-null  int64  \n",
      " 19  Género_Strategy                   26851 non-null  int64  \n",
      " 20  Género_Utilities                  26851 non-null  int64  \n",
      " 21  Género_Video Production           26851 non-null  int64  \n",
      " 22  Género_Web Publishing             26851 non-null  int64  \n",
      " 23  Acceso_temprano_num               26851 non-null  int64  \n",
      "dtypes: float64(1), int64(23)\n",
      "memory usage: 4.9 MB\n"
     ]
    }
   ],
   "source": [
    "x.info()"
   ]
  },
  {
   "cell_type": "code",
   "execution_count": 453,
   "metadata": {},
   "outputs": [
    {
     "data": {
      "text/html": [
       "<div>\n",
       "<style scoped>\n",
       "    .dataframe tbody tr th:only-of-type {\n",
       "        vertical-align: middle;\n",
       "    }\n",
       "\n",
       "    .dataframe tbody tr th {\n",
       "        vertical-align: top;\n",
       "    }\n",
       "\n",
       "    .dataframe thead th {\n",
       "        text-align: right;\n",
       "    }\n",
       "</style>\n",
       "<table border=\"1\" class=\"dataframe\">\n",
       "  <thead>\n",
       "    <tr style=\"text-align: right;\">\n",
       "      <th></th>\n",
       "      <th>Mes</th>\n",
       "      <th>Género_Accounting</th>\n",
       "      <th>Género_Action</th>\n",
       "      <th>Género_Adventure</th>\n",
       "      <th>Género_Animation &amp;amp; Modeling</th>\n",
       "      <th>Género_Audio Production</th>\n",
       "      <th>Género_Casual</th>\n",
       "      <th>Género_Design &amp;amp; Illustration</th>\n",
       "      <th>Género_Early Access</th>\n",
       "      <th>Género_Education</th>\n",
       "      <th>...</th>\n",
       "      <th>Género_RPG</th>\n",
       "      <th>Género_Racing</th>\n",
       "      <th>Género_Simulation</th>\n",
       "      <th>Género_Software Training</th>\n",
       "      <th>Género_Sports</th>\n",
       "      <th>Género_Strategy</th>\n",
       "      <th>Género_Utilities</th>\n",
       "      <th>Género_Video Production</th>\n",
       "      <th>Género_Web Publishing</th>\n",
       "      <th>Acceso_temprano_num</th>\n",
       "    </tr>\n",
       "  </thead>\n",
       "  <tbody>\n",
       "    <tr>\n",
       "      <th>0</th>\n",
       "      <td>1.0</td>\n",
       "      <td>0</td>\n",
       "      <td>1</td>\n",
       "      <td>0</td>\n",
       "      <td>0</td>\n",
       "      <td>0</td>\n",
       "      <td>1</td>\n",
       "      <td>0</td>\n",
       "      <td>0</td>\n",
       "      <td>0</td>\n",
       "      <td>...</td>\n",
       "      <td>0</td>\n",
       "      <td>0</td>\n",
       "      <td>1</td>\n",
       "      <td>0</td>\n",
       "      <td>0</td>\n",
       "      <td>1</td>\n",
       "      <td>0</td>\n",
       "      <td>0</td>\n",
       "      <td>0</td>\n",
       "      <td>0</td>\n",
       "    </tr>\n",
       "    <tr>\n",
       "      <th>1</th>\n",
       "      <td>1.0</td>\n",
       "      <td>0</td>\n",
       "      <td>0</td>\n",
       "      <td>0</td>\n",
       "      <td>0</td>\n",
       "      <td>0</td>\n",
       "      <td>0</td>\n",
       "      <td>0</td>\n",
       "      <td>0</td>\n",
       "      <td>0</td>\n",
       "      <td>...</td>\n",
       "      <td>1</td>\n",
       "      <td>0</td>\n",
       "      <td>0</td>\n",
       "      <td>0</td>\n",
       "      <td>0</td>\n",
       "      <td>1</td>\n",
       "      <td>0</td>\n",
       "      <td>0</td>\n",
       "      <td>0</td>\n",
       "      <td>0</td>\n",
       "    </tr>\n",
       "    <tr>\n",
       "      <th>2</th>\n",
       "      <td>7.0</td>\n",
       "      <td>0</td>\n",
       "      <td>0</td>\n",
       "      <td>0</td>\n",
       "      <td>0</td>\n",
       "      <td>0</td>\n",
       "      <td>1</td>\n",
       "      <td>0</td>\n",
       "      <td>0</td>\n",
       "      <td>0</td>\n",
       "      <td>...</td>\n",
       "      <td>0</td>\n",
       "      <td>0</td>\n",
       "      <td>1</td>\n",
       "      <td>0</td>\n",
       "      <td>1</td>\n",
       "      <td>0</td>\n",
       "      <td>0</td>\n",
       "      <td>0</td>\n",
       "      <td>0</td>\n",
       "      <td>0</td>\n",
       "    </tr>\n",
       "  </tbody>\n",
       "</table>\n",
       "<p>3 rows × 24 columns</p>\n",
       "</div>"
      ],
      "text/plain": [
       "   Mes  Género_Accounting  Género_Action  Género_Adventure   \n",
       "0  1.0                  0              1                 0  \\\n",
       "1  1.0                  0              0                 0   \n",
       "2  7.0                  0              0                 0   \n",
       "\n",
       "   Género_Animation &amp; Modeling  Género_Audio Production  Género_Casual   \n",
       "0                                0                        0              1  \\\n",
       "1                                0                        0              0   \n",
       "2                                0                        0              1   \n",
       "\n",
       "   Género_Design &amp; Illustration  Género_Early Access  Género_Education   \n",
       "0                                 0                    0                 0  \\\n",
       "1                                 0                    0                 0   \n",
       "2                                 0                    0                 0   \n",
       "\n",
       "   ...  Género_RPG  Género_Racing  Género_Simulation   \n",
       "0  ...           0              0                  1  \\\n",
       "1  ...           1              0                  0   \n",
       "2  ...           0              0                  1   \n",
       "\n",
       "   Género_Software Training  Género_Sports  Género_Strategy  Género_Utilities   \n",
       "0                         0              0                1                 0  \\\n",
       "1                         0              0                1                 0   \n",
       "2                         0              1                0                 0   \n",
       "\n",
       "   Género_Video Production  Género_Web Publishing  Acceso_temprano_num  \n",
       "0                        0                      0                    0  \n",
       "1                        0                      0                    0  \n",
       "2                        0                      0                    0  \n",
       "\n",
       "[3 rows x 24 columns]"
      ]
     },
     "execution_count": 453,
     "metadata": {},
     "output_type": "execute_result"
    }
   ],
   "source": [
    "x.head(3)"
   ]
  },
  {
   "cell_type": "code",
   "execution_count": 478,
   "metadata": {},
   "outputs": [
    {
     "data": {
      "text/plain": [
       "['Género_Accounting',\n",
       " 'Género_Action',\n",
       " 'Género_Adventure',\n",
       " 'Género_Animation &amp; Modeling',\n",
       " 'Género_Audio Production',\n",
       " 'Género_Casual',\n",
       " 'Género_Design &amp; Illustration',\n",
       " 'Género_Early Access',\n",
       " 'Género_Education',\n",
       " 'Género_Free to Play',\n",
       " 'Género_Indie',\n",
       " 'Género_Massively Multiplayer',\n",
       " 'Género_Photo Editing',\n",
       " 'Género_RPG',\n",
       " 'Género_Racing',\n",
       " 'Género_Simulation',\n",
       " 'Género_Software Training',\n",
       " 'Género_Sports',\n",
       " 'Género_Strategy',\n",
       " 'Género_Utilities',\n",
       " 'Género_Video Production',\n",
       " 'Género_Web Publishing']"
      ]
     },
     "execution_count": 478,
     "metadata": {},
     "output_type": "execute_result"
    }
   ],
   "source": [
    "columnas_modelo"
   ]
  },
  {
   "cell_type": "code",
   "execution_count": 480,
   "metadata": {},
   "outputs": [
    {
     "data": {
      "text/plain": [
       "[1, 1, 0, 0, 0, 0, 0, 0, 0, 0, 0, 0, 0, 0, 0, 0, 0, 0, 0, 0, 0, 0]"
      ]
     },
     "execution_count": 480,
     "metadata": {},
     "output_type": "execute_result"
    }
   ],
   "source": [
    "columnas_modelo = x.columns.tolist()[1:23]\n",
    "input_text = 'Género_Action, Género_Accounting'\n",
    "columnas_usuario_lista = input_text.split(\", \")\n",
    "# Crea un conjunto (set) con las columnas proporcionadas por el usuario\n",
    "columnas_usuario = set(columnas_usuario_lista)\n",
    "# Encuentra la intersección entre las columnas del modelo y las columnas proporcionadas por el usuario\n",
    "columnas_validas = columnas_usuario.intersection(columnas_modelo)\n",
    "# Crea un diccionario con las columnas proporcionadas por el usuario y sus respectivos valores (1 o 0)\n",
    "valores_usuario = {columna: 1 if columna in columnas_usuario else 0 for columna in columnas_modelo}\n",
    "# Crea un DataFrame a partir del diccionario\n",
    "df_usuario = pd.DataFrame(valores_usuario, index=[0])\n",
    "# Convierte el DataFrame en una lista ordenada\n",
    "lista_ordenada = df_usuario.to_numpy().tolist()[0]\n",
    "lista_ordenada\n"
   ]
  },
  {
   "cell_type": "code",
   "execution_count": 486,
   "metadata": {},
   "outputs": [],
   "source": [
    "def predict3 (mes,input_text,acceso_temprano):\n",
    "    \"\"\"\n",
    "    Esta función deber recibir \n",
    "        - mes:el mes con números del 1 al 12\n",
    "        - input_text: los géneros separados con coma seguido de un espacio y con el prefijo Género. Por ejemplo: 'Género_Action, Género_Accounting'\n",
    "        - acceso_temprano: 1 para True o 0 para False\n",
    "    La función devolverá el valor predicho seguido del RMSE del modelo\n",
    "    Los géneros disponibles son : ['Género_Accounting',  'Género_Action', 'Género_Adventure',  \n",
    "    'Género_Animation &amp; Modeling',  'Género_Audio Production',  'Género_Casual',  'Género_Design &amp; Illustration', \n",
    "    'Género_Early Access',  'Género_Education',  'Género_Free to Play',  'Género_Indie',  'Género_Massively Multiplayer', \n",
    "    'Género_Photo Editing',  'Género_RPG',  'Género_Racing',  'Género_Simulation',  'Género_Software Training', \n",
    "    'Género_Sports',  'Género_Strategy', 'Género_Utilities',  'Género_Video Production',  'Género_Web Publishing']\n",
    "    \"\"\"\n",
    "    columnas_modelo = x.columns.tolist()[1:23]\n",
    "    columnas_usuario_lista = input_text.split(\", \")\n",
    "    # Crea un conjunto (set) con las columnas proporcionadas por el usuario\n",
    "    columnas_usuario = set(columnas_usuario_lista)\n",
    "    # Encuentra la intersección entre las columnas del modelo y las columnas proporcionadas por el usuario\n",
    "    columnas_validas = columnas_usuario.intersection(columnas_modelo)\n",
    "    # Crea un diccionario con las columnas proporcionadas por el usuario y sus respectivos valores (1 o 0)\n",
    "    valores_usuario = {columna: 1 if columna in columnas_usuario else 0 for columna in columnas_modelo}\n",
    "    # Crea un DataFrame a partir del diccionario\n",
    "    df_usuario = pd.DataFrame(valores_usuario, index=[0])\n",
    "    # Convierte el DataFrame en una lista ordenada\n",
    "    género = df_usuario.to_numpy().tolist()[0]\n",
    "    features = [mes]+género+[acceso_temprano]\n",
    "    x_pred = np.array(features).reshape(1, -1)\n",
    "    return Modelo_árbol.predict(x_pred),rmse"
   ]
  },
  {
   "cell_type": "code",
   "execution_count": 487,
   "metadata": {},
   "outputs": [
    {
     "name": "stderr",
     "output_type": "stream",
     "text": [
      "C:\\Users\\Mariano\\AppData\\Roaming\\Python\\Python311\\site-packages\\sklearn\\base.py:464: UserWarning: X does not have valid feature names, but DecisionTreeRegressor was fitted with feature names\n",
      "  warnings.warn(\n"
     ]
    },
    {
     "data": {
      "text/plain": [
       "(array([10.03480294]), 8.742146060112605)"
      ]
     },
     "execution_count": 487,
     "metadata": {},
     "output_type": "execute_result"
    }
   ],
   "source": [
    "predict3(2,'Género_Action, Género_Accounting',0)"
   ]
  }
 ],
 "metadata": {
  "kernelspec": {
   "display_name": "Python 3",
   "language": "python",
   "name": "python3"
  },
  "language_info": {
   "codemirror_mode": {
    "name": "ipython",
    "version": 3
   },
   "file_extension": ".py",
   "mimetype": "text/x-python",
   "name": "python",
   "nbconvert_exporter": "python",
   "pygments_lexer": "ipython3",
   "version": "3.11.1"
  },
  "orig_nbformat": 4
 },
 "nbformat": 4,
 "nbformat_minor": 2
}
